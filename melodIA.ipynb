{
 "cells": [
  {
   "cell_type": "markdown",
   "id": "479f2d55",
   "metadata": {},
   "source": [
    "# Combinación de ambos modelos\n",
    "\n",
    "En este notebook vamos a recrear el proceso completo con los dos modelos que hemos entrenado, desde cargar una imagen inicial hasta la obtención del archivo MIDI final.\n",
    "\n",
    "## Cargamos los modelos"
   ]
  },
  {
   "cell_type": "code",
   "execution_count": 1,
   "id": "a9fbd156",
   "metadata": {},
   "outputs": [
    {
     "name": "stderr",
     "output_type": "stream",
     "text": [
      "2025-05-18 18:04:57.631376: I metal_plugin/src/device/metal_device.cc:1154] Metal device set to: Apple M1\n",
      "2025-05-18 18:04:57.631442: I metal_plugin/src/device/metal_device.cc:296] systemMemory: 16.00 GB\n",
      "2025-05-18 18:04:57.631463: I metal_plugin/src/device/metal_device.cc:313] maxCacheSize: 5.33 GB\n",
      "2025-05-18 18:04:57.631492: I tensorflow/core/common_runtime/pluggable_device/pluggable_device_factory.cc:305] Could not identify NUMA node of platform GPU ID 0, defaulting to 0. Your kernel may not have been built with NUMA support.\n",
      "2025-05-18 18:04:57.631516: I tensorflow/core/common_runtime/pluggable_device/pluggable_device_factory.cc:271] Created TensorFlow device (/job:localhost/replica:0/task:0/device:GPU:0 with 0 MB memory) -> physical PluggableDevice (device: 0, name: METAL, pci bus id: <undefined>)\n"
     ]
    },
    {
     "name": "stdout",
     "output_type": "stream",
     "text": [
      "Modelo cargado desde: pretrained_models/modelo_extension_midi.keras\n"
     ]
    }
   ],
   "source": [
    "from model.extender_midi.model import MelodIAModel, Utilities\n",
    "from model.foto_a_midi.main import FotoAMIDI\n",
    "\n",
    "# Cargamos los modelos\n",
    "MODEL_PARAMS_PATH = \"pretrained_models/modelo_params_midi.h5\"\n",
    "MODEL_MIDI_EXTENSION_PATH = \"pretrained_models/modelo_extension_midi.keras\"\n",
    "\n",
    "modelo_params = FotoAMIDI(modelo_ruta=MODEL_PARAMS_PATH, usar_clip=True)\n",
    "modelo_params.load_modelo()\n",
    "modelo_extender_midi = MelodIAModel.load_model(MODEL_MIDI_EXTENSION_PATH)"
   ]
  },
  {
   "cell_type": "markdown",
   "id": "d11a44a7",
   "metadata": {},
   "source": [
    "## Modelo 1: Foto a MIDI"
   ]
  },
  {
   "cell_type": "code",
   "execution_count": 2,
   "id": "bd06185f",
   "metadata": {},
   "outputs": [],
   "source": [
    "import os\n",
    "from PIL import Image\n",
    "from Scripts.python.midi_generator_acordes import ParamsAMIDI\n",
    "# Cargamos la imagen\n",
    "IMAGE_PATH = \"./model/foto_a_midi/datos/test/noche.jpeg\"\n",
    "im = Image.open(IMAGE_PATH)\n"
   ]
  },
  {
   "cell_type": "code",
   "execution_count": 3,
   "id": "f8572010",
   "metadata": {},
   "outputs": [
    {
     "ename": "",
     "evalue": "",
     "output_type": "error",
     "traceback": [
      "\u001b[1;31mThe Kernel crashed while executing code in the current cell or a previous cell. \n",
      "\u001b[1;31mPlease review the code in the cell(s) to identify a possible cause of the failure. \n",
      "\u001b[1;31mClick <a href='https://aka.ms/vscodeJupyterKernelCrash'>here</a> for more info. \n",
      "\u001b[1;31mView Jupyter <a href='command:jupyter.viewOutput'>log</a> for further details."
     ]
    }
   ],
   "source": [
    "# Metemos la imagen en el modelo y predecimos sus parametros\n",
    "params = modelo_params.predict(im)\n"
   ]
  },
  {
   "cell_type": "code",
   "execution_count": null,
   "id": "8d35d00e",
   "metadata": {},
   "outputs": [],
   "source": [
    "MIDI_PATH = \"prueba.mid\"\n",
    "# Generamos el midi a partir de los parámetros obtenidos\n",
    "midi_basico = ParamsAMIDI(**params)\n",
    "midi_basico.generar_midi(MIDI_PATH)\n",
    "\n",
    "# Si el midi tiene menos de 25 notas, lo concatenamos\n",
    "import pretty_midi\n",
    "\n",
    "pm = pretty_midi.PrettyMIDI(MIDI_PATH)\n",
    "num_notas = len(pm.instruments[0].notes)\n",
    "if (num_notas < 25):\n",
    "    n = 25 / num_notas + 1\n",
    "    aux = pm\n",
    "    for i in range(0, n):\n",
    "        aux = Utilities.concatenate_pretty_midi(pm, aux)\n",
    "    pm = aux"
   ]
  },
  {
   "cell_type": "markdown",
   "id": "893ef58a",
   "metadata": {},
   "source": [
    "## Modelo 2: Extensión del archivo MIDI generado"
   ]
  },
  {
   "cell_type": "code",
   "execution_count": null,
   "id": "90a360ac",
   "metadata": {},
   "outputs": [],
   "source": [
    "import pretty_midi\n",
    "\n",
    "df = Utilities.midi_path_to_df(MIDI_PATH)\n",
    "notes = Utilities.midi_to_numpy(pm)\n",
    "notes_sequence = notes[:25] # primeras 25 notas\n",
    "notes = MelodIAModel.normalize(notes_sequence) "
   ]
  },
  {
   "cell_type": "markdown",
   "id": "43576e29",
   "metadata": {},
   "source": [
    "Generamos las nuevas notas con el modelo"
   ]
  },
  {
   "cell_type": "code",
   "execution_count": null,
   "id": "a386be12",
   "metadata": {},
   "outputs": [],
   "source": [
    "# Se pueden cambiar el número de predicciones y la temperatura\n",
    "generated_notes = MelodIAModel.predict_sequence(modelo_extender_midi, notes, num_predictions=25, temperature=0.8)\n",
    "\n",
    "generated_notes = MelodIAModel.desnormalize(generated_notes)\n",
    "generado = Utilities.notes_to_midi(generated_notes)"
   ]
  },
  {
   "cell_type": "markdown",
   "id": "ca092825",
   "metadata": {},
   "source": [
    "Unimos el fragmento MIDI original con el generado"
   ]
  },
  {
   "cell_type": "code",
   "execution_count": null,
   "id": "a5793ade",
   "metadata": {},
   "outputs": [],
   "source": [
    "original = Utilities.notes_to_midi(notes_sequence)\n",
    "combined = Utilities.concatenate_pretty_midi(original, generado)"
   ]
  },
  {
   "cell_type": "markdown",
   "id": "da51ad73",
   "metadata": {},
   "source": [
    "Lo visualizamos"
   ]
  },
  {
   "cell_type": "code",
   "execution_count": null,
   "id": "610fbee8",
   "metadata": {},
   "outputs": [],
   "source": [
    "Utilities.plot_piano_roll(combined, 40, 100)"
   ]
  },
  {
   "cell_type": "markdown",
   "id": "5874120b",
   "metadata": {},
   "source": [
    "También se puede escuchar"
   ]
  },
  {
   "cell_type": "code",
   "execution_count": null,
   "id": "237596e4",
   "metadata": {},
   "outputs": [],
   "source": [
    "Utilities.display_audio(combined)"
   ]
  },
  {
   "cell_type": "markdown",
   "id": "0af30a2c",
   "metadata": {},
   "source": [
    "Por último lo guardamos"
   ]
  },
  {
   "cell_type": "code",
   "execution_count": null,
   "id": "aa3e8bc0",
   "metadata": {},
   "outputs": [],
   "source": [
    "combined.write(\"midi_final.mid\")"
   ]
  }
 ],
 "metadata": {
  "kernelspec": {
   "display_name": ".venv",
   "language": "python",
   "name": "python3"
  },
  "language_info": {
   "codemirror_mode": {
    "name": "ipython",
    "version": 3
   },
   "file_extension": ".py",
   "mimetype": "text/x-python",
   "name": "python",
   "nbconvert_exporter": "python",
   "pygments_lexer": "ipython3",
   "version": "3.12.3"
  }
 },
 "nbformat": 4,
 "nbformat_minor": 5
}
