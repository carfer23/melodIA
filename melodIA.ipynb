{
 "cells": [
  {
   "cell_type": "markdown",
   "id": "479f2d55",
   "metadata": {},
   "source": [
    "# Combinación de ambos modelos\n",
    "\n",
    "En este notebook vamos a recrear el proceso completo con los dos modelos que hemos entrenado, desde cargar una imagen inicial hasta la obtención del archivo MIDI final.\n",
    "\n",
    "## Cargamos los modelos"
   ]
  },
  {
   "cell_type": "code",
   "execution_count": 1,
   "id": "a9fbd156",
   "metadata": {},
   "outputs": [
    {
     "name": "stderr",
     "output_type": "stream",
     "text": [
      "2025-05-18 18:50:04.095632: I tensorflow/core/util/port.cc:153] oneDNN custom operations are on. You may see slightly different numerical results due to floating-point round-off errors from different computation orders. To turn them off, set the environment variable `TF_ENABLE_ONEDNN_OPTS=0`.\n",
      "2025-05-18 18:50:04.112114: E external/local_xla/xla/stream_executor/cuda/cuda_fft.cc:467] Unable to register cuFFT factory: Attempting to register factory for plugin cuFFT when one has already been registered\n",
      "WARNING: All log messages before absl::InitializeLog() is called are written to STDERR\n",
      "E0000 00:00:1747587004.127568  107744 cuda_dnn.cc:8579] Unable to register cuDNN factory: Attempting to register factory for plugin cuDNN when one has already been registered\n",
      "E0000 00:00:1747587004.131583  107744 cuda_blas.cc:1407] Unable to register cuBLAS factory: Attempting to register factory for plugin cuBLAS when one has already been registered\n",
      "W0000 00:00:1747587004.146364  107744 computation_placer.cc:177] computation placer already registered. Please check linkage and avoid linking the same target more than once.\n",
      "W0000 00:00:1747587004.146394  107744 computation_placer.cc:177] computation placer already registered. Please check linkage and avoid linking the same target more than once.\n",
      "W0000 00:00:1747587004.146395  107744 computation_placer.cc:177] computation placer already registered. Please check linkage and avoid linking the same target more than once.\n",
      "W0000 00:00:1747587004.146396  107744 computation_placer.cc:177] computation placer already registered. Please check linkage and avoid linking the same target more than once.\n",
      "2025-05-18 18:50:04.152750: I tensorflow/core/platform/cpu_feature_guard.cc:210] This TensorFlow binary is optimized to use available CPU instructions in performance-critical operations.\n",
      "To enable the following instructions: AVX2 AVX_VNNI FMA, in other operations, rebuild TensorFlow with the appropriate compiler flags.\n",
      "I0000 00:00:1747587012.237533  107744 gpu_device.cc:2019] Created device /job:localhost/replica:0/task:0/device:GPU:0 with 1400 MB memory:  -> device: 0, name: NVIDIA GeForce RTX 2050, pci bus id: 0000:02:00.0, compute capability: 8.6\n"
     ]
    },
    {
     "name": "stdout",
     "output_type": "stream",
     "text": [
      "Modelo cargado desde: models/pretrained_models/modelo_extension_midi.keras\n"
     ]
    }
   ],
   "source": [
    "from models.extender_midi.model import MelodIAModel, Utilities\n",
    "from models.foto_a_midi.main import FotoAMIDI\n",
    "\n",
    "# Cargamos los modelos\n",
    "MODEL_PARAMS_PATH = \"models/pretrained_models/modelo_params_midi.h5\"\n",
    "MODEL_MIDI_EXTENSION_PATH = \"models/pretrained_models/modelo_extension_midi.keras\"\n",
    "\n",
    "modelo_params = FotoAMIDI(modelo_ruta=MODEL_PARAMS_PATH, usar_clip=True)\n",
    "modelo_params.load_modelo()\n",
    "modelo_extender_midi = MelodIAModel.load_model(MODEL_MIDI_EXTENSION_PATH)"
   ]
  },
  {
   "cell_type": "markdown",
   "id": "d11a44a7",
   "metadata": {},
   "source": [
    "## Modelo 1: Foto a MIDI"
   ]
  },
  {
   "cell_type": "code",
   "execution_count": 2,
   "id": "bd06185f",
   "metadata": {},
   "outputs": [],
   "source": [
    "import os\n",
    "from PIL import Image\n",
    "from Scripts.python.midi_generator_acordes import ParamsAMIDI\n",
    "\n",
    "# Cargamos la imagen\n",
    "IMAGE_PATH = \"./models/foto_a_midi/datos/test/noche.jpeg\"\n",
    "im = Image.open(IMAGE_PATH)"
   ]
  },
  {
   "cell_type": "code",
   "execution_count": 3,
   "id": "f8572010",
   "metadata": {},
   "outputs": [
    {
     "name": "stderr",
     "output_type": "stream",
     "text": [
      "WARNING: All log messages before absl::InitializeLog() is called are written to STDERR\n",
      "I0000 00:00:1747587017.597154  107894 service.cc:152] XLA service 0x7fc36c0e31e0 initialized for platform CUDA (this does not guarantee that XLA will be used). Devices:\n",
      "I0000 00:00:1747587017.597196  107894 service.cc:160]   StreamExecutor device (0): NVIDIA GeForce RTX 2050, Compute Capability 8.6\n",
      "2025-05-18 18:50:17.604158: I tensorflow/compiler/mlir/tensorflow/utils/dump_mlir_util.cc:269] disabling MLIR crash reproducer, set env var `MLIR_CRASH_REPRODUCER_DIRECTORY` to enable.\n",
      "I0000 00:00:1747587017.622681  107894 cuda_dnn.cc:529] Loaded cuDNN version 90501\n",
      "I0000 00:00:1747587017.797782  107894 device_compiler.h:188] Compiled cluster using XLA!  This line is logged at most once for the lifetime of the process.\n"
     ]
    },
    {
     "name": "stdout",
     "output_type": "stream",
     "text": [
      "\u001b[1m1/1\u001b[0m \u001b[32m━━━━━━━━━━━━━━━━━━━━\u001b[0m\u001b[37m\u001b[0m \u001b[1m0s\u001b[0m 298ms/step\n"
     ]
    }
   ],
   "source": [
    "# Metemos la imagen en el modelo y predecimos sus parametros\n",
    "params = modelo_params.predict(im)"
   ]
  },
  {
   "cell_type": "code",
   "execution_count": 4,
   "id": "31ad1b08",
   "metadata": {},
   "outputs": [
    {
     "data": {
      "text/plain": [
       "{'tonalidad_value': np.float32(0.0),\n",
       " 'tempo': np.float32(20.0),\n",
       " 'duracion_media': np.float32(0.59843194),\n",
       " 'sigma': np.float32(0.55461925),\n",
       " 'velocidad_media': np.float32(0.0),\n",
       " 'densidad_media': np.float32(0.0),\n",
       " 'caracter_melodico': np.float32(0.0),\n",
       " 'usar_acordes': np.float32(0.0),\n",
       " 'proporcion_acordes': np.float32(0.0),\n",
       " 'rango_octavas': np.float32(1.0)}"
      ]
     },
     "execution_count": 4,
     "metadata": {},
     "output_type": "execute_result"
    }
   ],
   "source": [
    "params"
   ]
  },
  {
   "cell_type": "code",
   "execution_count": 5,
   "id": "c5e0164f",
   "metadata": {},
   "outputs": [
    {
     "name": "stdout",
     "output_type": "stream",
     "text": [
      "{'tonalidad_value': np.float32(0.0), 'tempo': 20, 'duracion_media': np.float32(0.59843194), 'sigma': np.float32(0.55461925), 'velocidad_media': np.float32(0.0), 'densidad_media': np.float32(0.0), 'caracter_melodico': np.float32(0.0), 'usar_acordes': 0, 'proporcion_acordes': np.float32(0.0), 'rango_octavas': 1}\n"
     ]
    }
   ],
   "source": [
    "from models.foto_a_midi.modelo import clip_parametros\n",
    "\n",
    "# Convertimos a los tipos correctos\n",
    "keys = params.keys()\n",
    "values = clip_parametros(list(params.values()))\n",
    "params2 = dict(zip(keys, values))\n",
    "print(params2)"
   ]
  },
  {
   "cell_type": "code",
   "execution_count": 11,
   "id": "8d35d00e",
   "metadata": {},
   "outputs": [
    {
     "name": "stdout",
     "output_type": "stream",
     "text": [
      "Archivo MIDI generado: prueba.mid\n"
     ]
    }
   ],
   "source": [
    "MIDI_PATH = \"prueba.mid\"\n",
    "\n",
    "# Generamos el midi a partir de los parámetros obtenidos\n",
    "midi_basico = ParamsAMIDI(**params2)\n",
    "midi_basico.generar_midi(MIDI_PATH)\n",
    "\n",
    "# Si el midi tiene menos de 25 notas, lo concatenamos\n",
    "import pretty_midi\n",
    "\n",
    "pm = pretty_midi.PrettyMIDI(MIDI_PATH)"
   ]
  },
  {
   "cell_type": "code",
   "execution_count": 12,
   "id": "c82c159d",
   "metadata": {},
   "outputs": [
    {
     "data": {
      "text/plain": [
       "[]"
      ]
     },
     "execution_count": 12,
     "metadata": {},
     "output_type": "execute_result"
    }
   ],
   "source": [
    "pm.instruments"
   ]
  },
  {
   "cell_type": "code",
   "execution_count": 29,
   "id": "6230ea9b",
   "metadata": {},
   "outputs": [
    {
     "ename": "IndexError",
     "evalue": "list index out of range",
     "output_type": "error",
     "traceback": [
      "\u001b[31m---------------------------------------------------------------------------\u001b[39m",
      "\u001b[31mIndexError\u001b[39m                                Traceback (most recent call last)",
      "\u001b[36mCell\u001b[39m\u001b[36m \u001b[39m\u001b[32mIn[29]\u001b[39m\u001b[32m, line 1\u001b[39m\n\u001b[32m----> \u001b[39m\u001b[32m1\u001b[39m num_notas = \u001b[38;5;28mlen\u001b[39m(\u001b[43mpm\u001b[49m\u001b[43m.\u001b[49m\u001b[43minstruments\u001b[49m\u001b[43m[\u001b[49m\u001b[32;43m0\u001b[39;49m\u001b[43m]\u001b[49m.notes)\n\u001b[32m      3\u001b[39m \u001b[38;5;28;01mif\u001b[39;00m (num_notas < \u001b[32m25\u001b[39m):\n\u001b[32m      4\u001b[39m     n = \u001b[32m25\u001b[39m / num_notas + \u001b[32m1\u001b[39m\n",
      "\u001b[31mIndexError\u001b[39m: list index out of range"
     ]
    }
   ],
   "source": [
    "num_notas = len(pm.instruments[0].notes)\n",
    "\n",
    "if (num_notas < 25):\n",
    "    n = 25 / num_notas + 1\n",
    "    aux = pm\n",
    "    for i in range(0, n):\n",
    "        aux = Utilities.concatenate_pretty_midi(pm, aux)\n",
    "    pm = aux"
   ]
  },
  {
   "cell_type": "markdown",
   "id": "893ef58a",
   "metadata": {},
   "source": [
    "## Modelo 2: Extensión del archivo MIDI generado"
   ]
  },
  {
   "cell_type": "code",
   "execution_count": null,
   "id": "90a360ac",
   "metadata": {},
   "outputs": [],
   "source": [
    "import pretty_midi\n",
    "\n",
    "df = Utilities.midi_path_to_df(MIDI_PATH)\n",
    "notes = Utilities.midi_to_numpy(pm)\n",
    "notes_sequence = notes[:25] # primeras 25 notas\n",
    "notes = MelodIAModel.normalize(notes_sequence) "
   ]
  },
  {
   "cell_type": "markdown",
   "id": "43576e29",
   "metadata": {},
   "source": [
    "Generamos las nuevas notas con el modelo"
   ]
  },
  {
   "cell_type": "code",
   "execution_count": null,
   "id": "a386be12",
   "metadata": {},
   "outputs": [],
   "source": [
    "# Se pueden cambiar el número de predicciones y la temperatura\n",
    "generated_notes = MelodIAModel.predict_sequence(modelo_extender_midi, notes, num_predictions=25, temperature=0.8)\n",
    "\n",
    "generated_notes = MelodIAModel.desnormalize(generated_notes)\n",
    "generado = Utilities.notes_to_midi(generated_notes)"
   ]
  },
  {
   "cell_type": "markdown",
   "id": "ca092825",
   "metadata": {},
   "source": [
    "Unimos el fragmento MIDI original con el generado"
   ]
  },
  {
   "cell_type": "code",
   "execution_count": null,
   "id": "a5793ade",
   "metadata": {},
   "outputs": [],
   "source": [
    "original = Utilities.notes_to_midi(notes_sequence)\n",
    "combined = Utilities.concatenate_pretty_midi(original, generado)"
   ]
  },
  {
   "cell_type": "markdown",
   "id": "da51ad73",
   "metadata": {},
   "source": [
    "Lo visualizamos"
   ]
  },
  {
   "cell_type": "code",
   "execution_count": null,
   "id": "610fbee8",
   "metadata": {},
   "outputs": [],
   "source": [
    "Utilities.plot_piano_roll(combined, 40, 100)"
   ]
  },
  {
   "cell_type": "markdown",
   "id": "5874120b",
   "metadata": {},
   "source": [
    "También se puede escuchar"
   ]
  },
  {
   "cell_type": "code",
   "execution_count": null,
   "id": "237596e4",
   "metadata": {},
   "outputs": [],
   "source": [
    "Utilities.display_audio(combined)"
   ]
  },
  {
   "cell_type": "markdown",
   "id": "0af30a2c",
   "metadata": {},
   "source": [
    "Por último lo guardamos"
   ]
  },
  {
   "cell_type": "code",
   "execution_count": null,
   "id": "aa3e8bc0",
   "metadata": {},
   "outputs": [],
   "source": [
    "combined.write(\"midi_final.mid\")"
   ]
  }
 ],
 "metadata": {
  "kernelspec": {
   "display_name": ".venv",
   "language": "python",
   "name": "python3"
  },
  "language_info": {
   "codemirror_mode": {
    "name": "ipython",
    "version": 3
   },
   "file_extension": ".py",
   "mimetype": "text/x-python",
   "name": "python",
   "nbconvert_exporter": "python",
   "pygments_lexer": "ipython3",
   "version": "3.12.3"
  }
 },
 "nbformat": 4,
 "nbformat_minor": 5
}
