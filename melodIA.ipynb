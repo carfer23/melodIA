{
 "cells": [
  {
   "cell_type": "markdown",
   "id": "479f2d55",
   "metadata": {},
   "source": [
    "# Combinación de ambos modelos\n",
    "\n",
    "En este notebook vamos a recrear el proceso completo con los dos modelos que hemos entrenado, desde cargar una imagen inicial hasta la obtención del archivo MIDI final.\n",
    "\n",
    "## Cargamos los modelos"
   ]
  },
  {
   "cell_type": "code",
   "execution_count": 1,
   "id": "a9fbd156",
   "metadata": {},
   "outputs": [
    {
     "name": "stderr",
     "output_type": "stream",
     "text": [
      "2025-05-18 17:33:06.791519: I tensorflow/core/util/port.cc:153] oneDNN custom operations are on. You may see slightly different numerical results due to floating-point round-off errors from different computation orders. To turn them off, set the environment variable `TF_ENABLE_ONEDNN_OPTS=0`.\n",
      "2025-05-18 17:33:06.802055: E external/local_xla/xla/stream_executor/cuda/cuda_fft.cc:467] Unable to register cuFFT factory: Attempting to register factory for plugin cuFFT when one has already been registered\n",
      "WARNING: All log messages before absl::InitializeLog() is called are written to STDERR\n",
      "E0000 00:00:1747582386.815879   76692 cuda_dnn.cc:8579] Unable to register cuDNN factory: Attempting to register factory for plugin cuDNN when one has already been registered\n",
      "E0000 00:00:1747582386.820181   76692 cuda_blas.cc:1407] Unable to register cuBLAS factory: Attempting to register factory for plugin cuBLAS when one has already been registered\n",
      "W0000 00:00:1747582386.829657   76692 computation_placer.cc:177] computation placer already registered. Please check linkage and avoid linking the same target more than once.\n",
      "W0000 00:00:1747582386.829681   76692 computation_placer.cc:177] computation placer already registered. Please check linkage and avoid linking the same target more than once.\n",
      "W0000 00:00:1747582386.829683   76692 computation_placer.cc:177] computation placer already registered. Please check linkage and avoid linking the same target more than once.\n",
      "W0000 00:00:1747582386.829684   76692 computation_placer.cc:177] computation placer already registered. Please check linkage and avoid linking the same target more than once.\n",
      "2025-05-18 17:33:06.833342: I tensorflow/core/platform/cpu_feature_guard.cc:210] This TensorFlow binary is optimized to use available CPU instructions in performance-critical operations.\n",
      "To enable the following instructions: AVX2 AVX_VNNI FMA, in other operations, rebuild TensorFlow with the appropriate compiler flags.\n",
      "I0000 00:00:1747582394.881767   76692 gpu_device.cc:2019] Created device /job:localhost/replica:0/task:0/device:GPU:0 with 1400 MB memory:  -> device: 0, name: NVIDIA GeForce RTX 2050, pci bus id: 0000:02:00.0, compute capability: 8.6\n"
     ]
    },
    {
     "name": "stdout",
     "output_type": "stream",
     "text": [
      "Modelo cargado desde: pretrained_models/modelo_extension_midi.keras\n"
     ]
    }
   ],
   "source": [
    "from model.extender_midi.model import MelodIAModel, Utilities\n",
    "from model.foto_a_midi.main import FotoAMIDI\n",
    "\n",
    "# Cargamos los modelos\n",
    "MODEL_PARAMS_PATH = \"pretrained_models/modelo_params_midi.h5\"\n",
    "MODEL_MIDI_EXTENSION_PATH = \"pretrained_models/modelo_extension_midi.keras\"\n",
    "\n",
    "modelo_params = FotoAMIDI(modelo_ruta=MODEL_PARAMS_PATH, usar_clip=True)\n",
    "modelo_params.load_modelo()\n",
    "modelo_extender_midi = MelodIAModel.load_model(MODEL_MIDI_EXTENSION_PATH)"
   ]
  },
  {
   "cell_type": "markdown",
   "id": "d11a44a7",
   "metadata": {},
   "source": [
    "## Modelo 1: Foto a MIDI"
   ]
  },
  {
   "cell_type": "code",
   "execution_count": null,
   "id": "bd06185f",
   "metadata": {},
   "outputs": [],
   "source": []
  },
  {
   "cell_type": "markdown",
   "id": "893ef58a",
   "metadata": {},
   "source": [
    "## Modelo 2: Extendión del archivo MIDI generado"
   ]
  },
  {
   "cell_type": "code",
   "execution_count": null,
   "id": "90a360ac",
   "metadata": {},
   "outputs": [],
   "source": [
    "import pretty_midi\n",
    "\n",
    "df = Utilities.midi_path_to_df(midi_path)\n",
    "notes = Utilities.midi_to_numpy(pm)\n",
    "notes_sequence = notes[:25] # primeras 25 notas\n",
    "notes = MelodIAModel.normalize(notes_sequence) "
   ]
  },
  {
   "cell_type": "markdown",
   "id": "43576e29",
   "metadata": {},
   "source": [
    "Generamos las nuevas notas con el modelo"
   ]
  },
  {
   "cell_type": "code",
   "execution_count": null,
   "id": "a386be12",
   "metadata": {},
   "outputs": [],
   "source": [
    "# Se pueden cambiar el número de predicciones y la temperatura\n",
    "generated_notes = MelodIAModel.predict_sequence(model, notes, num_predictions=25, temperature=0.8)\n",
    "\n",
    "generated_notes = MelodIAModel.desnormalize(generated_notes)\n",
    "generado = Utilities.notes_to_midi(generated_notes)"
   ]
  },
  {
   "cell_type": "markdown",
   "id": "ca092825",
   "metadata": {},
   "source": [
    "Unimos el fragmento MIDI original con el generado"
   ]
  },
  {
   "cell_type": "code",
   "execution_count": null,
   "id": "a5793ade",
   "metadata": {},
   "outputs": [],
   "source": [
    "original = Utilities.notes_to_midi(notes_sequence)\n",
    "combined = Utilities.concatenate_pretty_midi(original, generado)"
   ]
  },
  {
   "cell_type": "markdown",
   "id": "da51ad73",
   "metadata": {},
   "source": [
    "Lo visualizamos"
   ]
  },
  {
   "cell_type": "code",
   "execution_count": null,
   "id": "610fbee8",
   "metadata": {},
   "outputs": [],
   "source": [
    "Utilities.plot_piano_roll(combined, 40, 100)"
   ]
  },
  {
   "cell_type": "markdown",
   "id": "5874120b",
   "metadata": {},
   "source": [
    "También se puede escuchar"
   ]
  },
  {
   "cell_type": "code",
   "execution_count": null,
   "id": "237596e4",
   "metadata": {},
   "outputs": [],
   "source": [
    "Utilities.display_audio(combined)"
   ]
  },
  {
   "cell_type": "markdown",
   "id": "0af30a2c",
   "metadata": {},
   "source": [
    "Por último lo guardamos"
   ]
  },
  {
   "cell_type": "code",
   "execution_count": null,
   "id": "aa3e8bc0",
   "metadata": {},
   "outputs": [],
   "source": [
    "combined.write(\"midi_final.mid\")"
   ]
  }
 ],
 "metadata": {
  "kernelspec": {
   "display_name": ".venv",
   "language": "python",
   "name": "python3"
  },
  "language_info": {
   "codemirror_mode": {
    "name": "ipython",
    "version": 3
   },
   "file_extension": ".py",
   "mimetype": "text/x-python",
   "name": "python",
   "nbconvert_exporter": "python",
   "pygments_lexer": "ipython3",
   "version": "3.12.3"
  }
 },
 "nbformat": 4,
 "nbformat_minor": 5
}
