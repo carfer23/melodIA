{
 "cells": [
  {
   "cell_type": "markdown",
   "id": "e747983d",
   "metadata": {},
   "source": [
    "# Descarga y creación de dataset de imágenes y parámetros"
   ]
  },
  {
   "cell_type": "markdown",
   "id": "d6545626",
   "metadata": {},
   "source": [
    "### Descarga de imágenes"
   ]
  },
  {
   "cell_type": "code",
   "execution_count": null,
   "id": "96003a5e",
   "metadata": {},
   "outputs": [],
   "source": [
    "from datos.descarga_fotos import PexelsDownloader\n",
    "\n",
    "# Elegimos las palabras clave para las imágenes que queremos descargar\n",
    "search_terms = [\n",
    "    \"thunderstorm\", \"rainy sky\", \"bright sunny sky\",\n",
    "    \"rainbow\", \"starry night\", \"clouds\",\n",
    "    \"sunset\", \"snow\"\n",
    "]\n",
    "image_dir=\"./datos/pexels_cielos_varios\"\n",
    "per_page = 300\n",
    "descargadas = PexelsDownloader.descargar_imagenes(search_terms, per_page, image_dir)\n",
    "print(f\"Imágenes descargadas: {descargadas}\")\n"
   ]
  },
  {
   "cell_type": "markdown",
   "id": "915aa09d",
   "metadata": {},
   "source": [
    "### Generación de parámetros según la clase de imagen"
   ]
  },
  {
   "cell_type": "code",
   "execution_count": null,
   "id": "3473c725",
   "metadata": {},
   "outputs": [],
   "source": [
    "import numpy as np\n",
    "\n",
    "# Definimos el rango para los parámetros de cada clase\n",
    "prefijos_generadores = {\n",
    "    \"thunderstorm\": lambda: [\n",
    "        np.random.uniform(0.0, 0.1), np.random.randint(130, 160), np.random.uniform(2.0, 2.5),\n",
    "        np.random.uniform(0.8, 1.0), np.random.uniform(0.7, 1.0), np.random.uniform(0.9, 1.0),\n",
    "        np.random.uniform(0.5, 0.7), 0, 0.0, np.random.randint(1, 2)\n",
    "    ],\n",
    "    \"rainy_sky\": lambda: [\n",
    "        np.random.uniform(0.1, 0.2), np.random.randint(90, 110), np.random.uniform(1.8, 2.2),\n",
    "        np.random.uniform(0.6, 0.8), np.random.uniform(0.5, 0.7), np.random.uniform(0.5, 0.6),\n",
    "        np.random.uniform(0.5, 0.7), 0, 0.0, np.random.randint(1, 2)\n",
    "    ],\n",
    "    \"bright_sunny_sky\": lambda: [\n",
    "        np.random.uniform(0.9, 1.0), np.random.randint(140, 160), np.random.uniform(0.4, 0.7),\n",
    "        np.random.uniform(0.1, 0.2), np.random.uniform(0.9, 1.0), np.random.uniform(0.6, 0.8),\n",
    "        np.random.uniform(0.9, 1.0), 1, np.random.uniform(0.6, 0.8), np.random.randint(3, 4)\n",
    "    ],\n",
    "    \"rainbow\": lambda: [\n",
    "        np.random.uniform(0.8, 1.0), np.random.randint(120, 140), np.random.uniform(0.5, 0.8),\n",
    "        np.random.uniform(0.2, 0.3), np.random.uniform(0.8, 1.0), np.random.uniform(0.6, 0.8),\n",
    "        np.random.uniform(0.9, 1.0), 1, np.random.uniform(0.7, 0.8), np.random.randint(3, 4)\n",
    "    ],\n",
    "    \"starry_night\": lambda: [\n",
    "        np.random.uniform(0.2, 0.3), np.random.randint(60, 80), np.random.uniform(2.5, 3.0),\n",
    "        np.random.uniform(0.8, 1.0), np.random.uniform(0.6, 0.7), np.random.uniform(0.4, 0.5),\n",
    "        np.random.uniform(0.5, 0.7), 1, np.random.uniform(0.5, 0.6), np.random.randint(2, 3)\n",
    "    ],\n",
    "    \"clouds\": lambda: [\n",
    "        np.random.uniform(0.4, 0.5), np.random.randint(90, 110), np.random.uniform(1.4, 1.6),\n",
    "        np.random.uniform(0.5, 0.6), np.random.uniform(0.6, 0.7), np.random.uniform(0.5, 0.6),\n",
    "        np.random.uniform(0.6, 0.7), 1, np.random.uniform(0.5, 0.6), np.random.randint(2, 3)\n",
    "    ],\n",
    "    \"sunset\": lambda: [\n",
    "        np.random.uniform(0.7, 0.9), np.random.randint(110, 130), np.random.uniform(1.5, 2.0),\n",
    "        np.random.uniform(0.4, 0.5), np.random.uniform(0.7, 0.9), np.random.uniform(0.5, 0.6),\n",
    "        np.random.uniform(0.7, 0.9), 1, np.random.uniform(0.6, 0.7), np.random.randint(2, 3)\n",
    "    ],\n",
    "    \"snow\": lambda: [\n",
    "        np.random.uniform(0.2, 0.3), np.random.randint(70, 90), np.random.uniform(1.0, 1.3),\n",
    "        np.random.uniform(0.4, 0.5), np.random.uniform(0.8, 1.0), np.random.uniform(0.6, 0.7),\n",
    "        np.random.uniform(0.6, 0.8), 1, np.random.uniform(0.5, 0.6), np.random.randint(2, 3)\n",
    "    ]\n",
    "}\n",
    "\n",
    "from generador_params import MidiParamsGenerator\n",
    "\n",
    "# Instancia\n",
    "gen = MidiParamsGenerator(prefijos_generadores, image_dir)\n",
    "\n",
    "# Genera parámetros y rutas\n",
    "gen.generar_parametros_y_rutas()\n",
    "\n",
    "# Guarda archivos\n",
    "gen.guardar_parametros(\"./datos/parametros_midi.npy\")\n",
    "gen.guardar_rutas(\"./datos/rutas_imagenes.txt\")\n",
    "\n"
   ]
  }
 ],
 "metadata": {
  "language_info": {
   "name": "python"
  }
 },
 "nbformat": 4,
 "nbformat_minor": 5
}
