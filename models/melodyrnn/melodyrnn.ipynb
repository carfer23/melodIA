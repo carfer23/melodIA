{
 "cells": [
  {
   "cell_type": "markdown",
   "id": "105df125",
   "metadata": {},
   "source": [
    "# Extensión de MIDI con MelodyRNN de Magenta"
   ]
  },
  {
   "cell_type": "markdown",
   "id": "1f3dc436",
   "metadata": {},
   "source": [
    "Este notebook extiende un archivo MIDI ya existente mediante el modelo preentrenado MelodyRNN de Magenta (models/pretrained_models/basic_rnn.mag). A partir de este notebook construimos el script melodyrnn.py. Usamos este script para probar a llamarlo desde un script LUA de ReaScipt pero no conseguimos que funcionara. El script LUA de prueba se encuentra en proyecto_reaper/Scripts/prueba-nofunciona.lua"
   ]
  },
  {
   "cell_type": "code",
   "execution_count": 1,
   "id": "f358fd02",
   "metadata": {},
   "outputs": [
    {
     "name": "stderr",
     "output_type": "stream",
     "text": [
      "/home/carmenfdez/MUS/melodIA/venv/lib/python3.7/site-packages/librosa/util/decorators.py:9: NumbaDeprecationWarning: An import was requested from a module that has moved location.\n",
      "Import requested from: 'numba.decorators', please update to use 'numba.core.decorators' or pin to Numba version 0.48.0. This alias will not be present in Numba version 0.50.0.\n",
      "  from numba.decorators import jit as optional_jit\n",
      "/home/carmenfdez/MUS/melodIA/venv/lib/python3.7/site-packages/librosa/util/decorators.py:9: NumbaDeprecationWarning: An import was requested from a module that has moved location.\n",
      "Import of 'jit' requested from: 'numba.decorators', please update to use 'numba.core.decorators' or pin to Numba version 0.48.0. This alias will not be present in Numba version 0.50.0.\n",
      "  from numba.decorators import jit as optional_jit\n",
      "/home/carmenfdez/MUS/melodIA/venv/lib/python3.7/site-packages/pydub/utils.py:170: RuntimeWarning: Couldn't find ffmpeg or avconv - defaulting to ffmpeg, but may not work\n",
      "  warn(\"Couldn't find ffmpeg or avconv - defaulting to ffmpeg, but may not work\", RuntimeWarning)\n",
      "2025-05-16 19:53:15.814231: I tensorflow/core/platform/cpu_feature_guard.cc:193] This TensorFlow binary is optimized with oneAPI Deep Neural Network Library (oneDNN) to use the following CPU instructions in performance-critical operations:  AVX2 AVX_VNNI FMA\n",
      "To enable them in other operations, rebuild TensorFlow with the appropriate compiler flags.\n",
      "2025-05-16 19:53:16.082735: I tensorflow/core/util/port.cc:104] oneDNN custom operations are on. You may see slightly different numerical results due to floating-point round-off errors from different computation orders. To turn them off, set the environment variable `TF_ENABLE_ONEDNN_OPTS=0`.\n",
      "2025-05-16 19:53:16.137429: W tensorflow/compiler/xla/stream_executor/platform/default/dso_loader.cc:64] Could not load dynamic library 'libcudart.so.11.0'; dlerror: libcudart.so.11.0: cannot open shared object file: No such file or directory\n",
      "2025-05-16 19:53:16.137445: I tensorflow/compiler/xla/stream_executor/cuda/cudart_stub.cc:29] Ignore above cudart dlerror if you do not have a GPU set up on your machine.\n",
      "2025-05-16 19:53:17.112590: W tensorflow/compiler/xla/stream_executor/platform/default/dso_loader.cc:64] Could not load dynamic library 'libnvinfer.so.7'; dlerror: libnvinfer.so.7: cannot open shared object file: No such file or directory\n",
      "2025-05-16 19:53:17.112755: W tensorflow/compiler/xla/stream_executor/platform/default/dso_loader.cc:64] Could not load dynamic library 'libnvinfer_plugin.so.7'; dlerror: libnvinfer_plugin.so.7: cannot open shared object file: No such file or directory\n",
      "2025-05-16 19:53:17.112761: W tensorflow/compiler/tf2tensorrt/utils/py_utils.cc:38] TF-TRT Warning: Cannot dlopen some TensorRT libraries. If you would like to use Nvidia GPU with TensorRT, please make sure the missing libraries mentioned above are installed properly.\n"
     ]
    }
   ],
   "source": [
    "from note_seq import midi_file_to_note_sequence\n",
    "from magenta.models.melody_rnn import melody_rnn_sequence_generator\n",
    "from magenta.models.shared import sequence_generator_bundle\n",
    "from note_seq.protobuf import generator_pb2\n",
    "import note_seq"
   ]
  },
  {
   "cell_type": "code",
   "execution_count": 2,
   "id": "60fd17b8",
   "metadata": {},
   "outputs": [
    {
     "name": "stdout",
     "output_type": "stream",
     "text": [
      "MIDI cargado correctamente. Número de notas: 25\n"
     ]
    }
   ],
   "source": [
    "# Ruta al archivo MIDI exportado desde Reaper\n",
    "input_midi_path = \"../../Media/original.mid\"\n",
    "\n",
    "# Convertimos el archivo MIDI a NoteSequence (formato usado por Magenta)\n",
    "try:\n",
    "    input_sequence = midi_file_to_note_sequence(input_midi_path)\n",
    "    print(\"MIDI cargado correctamente. Número de notas:\", len(input_sequence.notes))\n",
    "except Exception as e:\n",
    "    print(\"Error al cargar el archivo MIDI:\", e)"
   ]
  },
  {
   "cell_type": "code",
   "execution_count": 4,
   "id": "c0422836",
   "metadata": {},
   "outputs": [
    {
     "name": "stdout",
     "output_type": "stream",
     "text": [
      "WARNING:tensorflow:The saved meta_graph is possibly from an older release:\n",
      "'model_variables' collection should be of type 'byte_list', but instead is of type 'node_list'.\n",
      "INFO:tensorflow:Restoring parameters from /tmp/tmpidwsfbcx/model.ckpt\n"
     ]
    },
    {
     "name": "stderr",
     "output_type": "stream",
     "text": [
      "2025-05-16 19:54:03.124294: I tensorflow/compiler/xla/stream_executor/cuda/cuda_gpu_executor.cc:967] could not open file to read NUMA node: /sys/bus/pci/devices/0000:02:00.0/numa_node\n",
      "Your kernel may have been built without NUMA support.\n",
      "2025-05-16 19:54:03.124483: W tensorflow/compiler/xla/stream_executor/platform/default/dso_loader.cc:64] Could not load dynamic library 'libcudart.so.11.0'; dlerror: libcudart.so.11.0: cannot open shared object file: No such file or directory\n",
      "2025-05-16 19:54:03.124550: W tensorflow/compiler/xla/stream_executor/platform/default/dso_loader.cc:64] Could not load dynamic library 'libcublas.so.11'; dlerror: libcublas.so.11: cannot open shared object file: No such file or directory\n",
      "2025-05-16 19:54:03.124584: W tensorflow/compiler/xla/stream_executor/platform/default/dso_loader.cc:64] Could not load dynamic library 'libcublasLt.so.11'; dlerror: libcublasLt.so.11: cannot open shared object file: No such file or directory\n",
      "2025-05-16 19:54:03.124617: W tensorflow/compiler/xla/stream_executor/platform/default/dso_loader.cc:64] Could not load dynamic library 'libcufft.so.10'; dlerror: libcufft.so.10: cannot open shared object file: No such file or directory\n",
      "2025-05-16 19:54:03.509368: W tensorflow/compiler/xla/stream_executor/platform/default/dso_loader.cc:64] Could not load dynamic library 'libcusparse.so.11'; dlerror: libcusparse.so.11: cannot open shared object file: No such file or directory\n",
      "2025-05-16 19:54:03.509433: W tensorflow/compiler/xla/stream_executor/platform/default/dso_loader.cc:64] Could not load dynamic library 'libcudnn.so.8'; dlerror: libcudnn.so.8: cannot open shared object file: No such file or directory\n",
      "2025-05-16 19:54:03.509444: W tensorflow/core/common_runtime/gpu/gpu_device.cc:1934] Cannot dlopen some GPU libraries. Please make sure the missing libraries mentioned above are installed properly if you would like to use GPU. Follow the guide at https://www.tensorflow.org/install/gpu for how to download and setup the required libraries for your platform.\n",
      "Skipping registering GPU devices...\n",
      "2025-05-16 19:54:03.510745: I tensorflow/core/platform/cpu_feature_guard.cc:193] This TensorFlow binary is optimized with oneAPI Deep Neural Network Library (oneDNN) to use the following CPU instructions in performance-critical operations:  AVX2 AVX_VNNI FMA\n",
      "To enable them in other operations, rebuild TensorFlow with the appropriate compiler flags.\n",
      "2025-05-16 19:54:03.538241: W tensorflow/core/framework/op_def_util.cc:371] Op TensorArray is deprecated. It will cease to work in GraphDef version 16. Use TensorArrayV3.\n",
      "2025-05-16 19:54:03.538326: W tensorflow/core/framework/op_def_util.cc:371] Op TensorArrayUnpack is deprecated. It will cease to work in GraphDef version 20. Use TensorArrayScatterV3 with RangeOp.\n",
      "2025-05-16 19:54:03.538505: W tensorflow/core/framework/op_def_util.cc:371] Op TensorArrayRead is deprecated. It will cease to work in GraphDef version 16. Use TensorArrayReadV3.\n",
      "2025-05-16 19:54:03.539097: W tensorflow/core/framework/op_def_util.cc:371] Op TensorArrayWrite is deprecated. It will cease to work in GraphDef version 16. Use TensorArrayWriteV3.\n",
      "2025-05-16 19:54:03.539146: W tensorflow/core/framework/op_def_util.cc:371] Op TensorArrayPack is deprecated. It will cease to work in GraphDef version 16. Use TensorArrayGatherV3 with RangeOp.\n",
      "2025-05-16 19:54:03.553923: I tensorflow/compiler/mlir/mlir_graph_optimization_pass.cc:357] MLIR V1 optimization pass is not enabled\n"
     ]
    },
    {
     "name": "stdout",
     "output_type": "stream",
     "text": [
      "INFO:tensorflow:Beam search yields sequence with log-likelihood: -157.333054 \n"
     ]
    }
   ],
   "source": [
    "# Rutas\n",
    "bundle_path = \"../../pretrained_models/basic_rnn.mag\"\n",
    "output_path = \"../../Media/original_extended.mid\"\n",
    "\n",
    "# Cargar modelo\n",
    "bundle = sequence_generator_bundle.read_bundle_file(bundle_path)\n",
    "generator_map = melody_rnn_sequence_generator.get_generator_map()\n",
    "melody_rnn = generator_map['basic_rnn'](checkpoint=None, bundle=bundle)\n",
    "melody_rnn.initialize()\n",
    "\n",
    "num_steps = 128 # change this for shorter or longer sequences\n",
    "temperature = 1.0 # the higher the temperature the more random the sequence.\n",
    "\n",
    "# Set the start time to begin on the next step after the last note ends.\n",
    "last_end_time = (max(n.end_time for n in input_sequence.notes)\n",
    "                  if input_sequence.notes else 0)\n",
    "qpm = input_sequence.tempos[0].qpm \n",
    "seconds_per_step = 60.0 / qpm / melody_rnn.steps_per_quarter\n",
    "total_seconds = num_steps * seconds_per_step\n",
    "\n",
    "generator_options = generator_pb2.GeneratorOptions()\n",
    "generator_options.args['temperature'].float_value = temperature\n",
    "generate_section = generator_options.generate_sections.add(\n",
    "  start_time=last_end_time + seconds_per_step,\n",
    "  end_time=total_seconds)\n",
    "\n",
    "generated_sequence = melody_rnn.generate(input_sequence, generator_options)\n",
    "\n",
    "note_seq.sequence_proto_to_midi_file(generated_sequence, output_path)"
   ]
  }
 ],
 "metadata": {
  "kernelspec": {
   "display_name": "venv",
   "language": "python",
   "name": "python3"
  },
  "language_info": {
   "codemirror_mode": {
    "name": "ipython",
    "version": 3
   },
   "file_extension": ".py",
   "mimetype": "text/x-python",
   "name": "python",
   "nbconvert_exporter": "python",
   "pygments_lexer": "ipython3",
   "version": "3.12.3"
  }
 },
 "nbformat": 4,
 "nbformat_minor": 5
}
